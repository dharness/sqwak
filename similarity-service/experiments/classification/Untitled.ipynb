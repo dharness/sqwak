{
 "cells": [
  {
   "cell_type": "code",
   "execution_count": 1,
   "metadata": {
    "collapsed": true
   },
   "outputs": [],
   "source": [
    "from bokeh.plotting import figure, show, output_file\n",
    "import bokeh.layouts\n",
    "import bokeh.models\n",
    "import bokeh.embed\n",
    "import bokeh.models.widgets\n",
    "import bokeh.resources\n",
    "import pandas as pd\n",
    "import scipy.io.wavfile\n",
    "import os\n",
    "import numpy as np\n",
    "from pymongo import MongoClient\n",
    "from odo import odo\n",
    "\n",
    "db = MongoClient()\n"
   ]
  },
  {
   "cell_type": "code",
   "execution_count": 2,
   "metadata": {
    "collapsed": false
   },
   "outputs": [],
   "source": [
    "results = db.urban_sound.fold1.find({ 'fold': 1 })\n",
    "urban_sound = pd.DataFrame(list(results))"
   ]
  },
  {
   "cell_type": "code",
   "execution_count": 4,
   "metadata": {
    "collapsed": false
   },
   "outputs": [],
   "source": [
    "from IPython.display import display, HTML"
   ]
  },
  {
   "cell_type": "code",
   "execution_count": 5,
   "metadata": {
    "collapsed": false,
    "scrolled": true
   },
   "outputs": [
    {
     "data": {
      "text/html": [
       "<table border=\"1\" class=\"dataframe\">\n",
       "  <thead>\n",
       "    <tr style=\"text-align: right;\">\n",
       "      <th></th>\n",
       "      <th>_id</th>\n",
       "      <th>amplitudes</th>\n",
       "      <th>class</th>\n",
       "      <th>classID</th>\n",
       "      <th>end</th>\n",
       "      <th>fold</th>\n",
       "      <th>fsID</th>\n",
       "      <th>salience</th>\n",
       "      <th>slice_file_name</th>\n",
       "      <th>start</th>\n",
       "    </tr>\n",
       "  </thead>\n",
       "  <tbody>\n",
       "    <tr>\n",
       "      <th>0</th>\n",
       "      <td>5872d2d29d1fa2fdfa286262</td>\n",
       "      <td>[-0.000152587890625, -0.000149770974531, -0.00...</td>\n",
       "      <td>dog_bark</td>\n",
       "      <td>3</td>\n",
       "      <td>5.000000</td>\n",
       "      <td>1</td>\n",
       "      <td>101415</td>\n",
       "      <td>1</td>\n",
       "      <td>101415-3-0-2.wav</td>\n",
       "      <td>1.000000</td>\n",
       "    </tr>\n",
       "    <tr>\n",
       "      <th>1</th>\n",
       "      <td>5872d2d29d1fa2fdfa286263</td>\n",
       "      <td>[-0.000823974609375, -0.000856905244291, -0.00...</td>\n",
       "      <td>dog_bark</td>\n",
       "      <td>3</td>\n",
       "      <td>5.500000</td>\n",
       "      <td>1</td>\n",
       "      <td>101415</td>\n",
       "      <td>1</td>\n",
       "      <td>101415-3-0-3.wav</td>\n",
       "      <td>1.500000</td>\n",
       "    </tr>\n",
       "    <tr>\n",
       "      <th>2</th>\n",
       "      <td>5872d2d29d1fa2fdfa286264</td>\n",
       "      <td>[0.334320068359, 0.333408474922, 0.33111572265...</td>\n",
       "      <td>dog_bark</td>\n",
       "      <td>3</td>\n",
       "      <td>8.000000</td>\n",
       "      <td>1</td>\n",
       "      <td>101415</td>\n",
       "      <td>1</td>\n",
       "      <td>101415-3-0-8.wav</td>\n",
       "      <td>4.000000</td>\n",
       "    </tr>\n",
       "    <tr>\n",
       "      <th>3</th>\n",
       "      <td>5872d2d29d1fa2fdfa286265</td>\n",
       "      <td>[-0.0117492675781, -0.0114357639104, -0.011394...</td>\n",
       "      <td>dog_bark</td>\n",
       "      <td>3</td>\n",
       "      <td>3.884477</td>\n",
       "      <td>1</td>\n",
       "      <td>102106</td>\n",
       "      <td>2</td>\n",
       "      <td>102106-3-0-0.wav</td>\n",
       "      <td>2.243852</td>\n",
       "    </tr>\n",
       "    <tr>\n",
       "      <th>4</th>\n",
       "      <td>5872d2d29d1fa2fdfa286266</td>\n",
       "      <td>[0.0, -4.19839852839e-06, -2.84367706627e-06, ...</td>\n",
       "      <td>gun_shot</td>\n",
       "      <td>6</td>\n",
       "      <td>2.611610</td>\n",
       "      <td>1</td>\n",
       "      <td>102305</td>\n",
       "      <td>1</td>\n",
       "      <td>102305-6-0-0.wav</td>\n",
       "      <td>0.000000</td>\n",
       "    </tr>\n",
       "  </tbody>\n",
       "</table>"
      ],
      "text/plain": [
       "<IPython.core.display.HTML object>"
      ]
     },
     "execution_count": 5,
     "metadata": {},
     "output_type": "execute_result"
    }
   ],
   "source": [
    "HTML(urban_sound.head(5).to_html())"
   ]
  },
  {
   "cell_type": "code",
   "execution_count": 21,
   "metadata": {
    "collapsed": true
   },
   "outputs": [],
   "source": [
    "from sklearn import tree"
   ]
  },
  {
   "cell_type": "code",
   "execution_count": 28,
   "metadata": {
    "collapsed": false
   },
   "outputs": [],
   "source": [
    "X = urban_sound[\"amplitudes\"].values.tolist()\n"
   ]
  },
  {
   "cell_type": "code",
   "execution_count": 29,
   "metadata": {
    "collapsed": false
   },
   "outputs": [],
   "source": [
    "Y = urban_sound[\"classID\"].values.tolist()"
   ]
  },
  {
   "cell_type": "code",
   "execution_count": 30,
   "metadata": {
    "collapsed": false
   },
   "outputs": [],
   "source": [
    "clf = tree.DecisionTreeClassifier()"
   ]
  },
  {
   "cell_type": "code",
   "execution_count": 31,
   "metadata": {
    "collapsed": false,
    "scrolled": true
   },
   "outputs": [],
   "source": [
    "clf = clf.fit(X, Y)"
   ]
  },
  {
   "cell_type": "code",
   "execution_count": 32,
   "metadata": {
    "collapsed": false
   },
   "outputs": [
    {
     "name": "stdout",
     "output_type": "stream",
     "text": [
      "DecisionTreeClassifier(class_weight=None, criterion='gini', max_depth=None,\n",
      "            max_features=None, max_leaf_nodes=None, min_samples_leaf=1,\n",
      "            min_samples_split=2, min_weight_fraction_leaf=0.0,\n",
      "            presort=False, random_state=None, splitter='best')\n"
     ]
    }
   ],
   "source": [
    "print clf"
   ]
  },
  {
   "cell_type": "code",
   "execution_count": 39,
   "metadata": {
    "collapsed": false
   },
   "outputs": [
    {
     "data": {
      "text/plain": [
       "array([6, 9])"
      ]
     },
     "execution_count": 39,
     "metadata": {},
     "output_type": "execute_result"
    }
   ],
   "source": [
    "clf.predict([X[800], X[801]])"
   ]
  },
  {
   "cell_type": "code",
   "execution_count": 40,
   "metadata": {
    "collapsed": false
   },
   "outputs": [
    {
     "name": "stdout",
     "output_type": "stream",
     "text": [
      "6\n"
     ]
    }
   ],
   "source": [
    "print(Y[800])"
   ]
  },
  {
   "cell_type": "code",
   "execution_count": 41,
   "metadata": {
    "collapsed": false
   },
   "outputs": [
    {
     "name": "stdout",
     "output_type": "stream",
     "text": [
      "9\n"
     ]
    }
   ],
   "source": [
    "print(Y[801])"
   ]
  },
  {
   "cell_type": "code",
   "execution_count": null,
   "metadata": {
    "collapsed": true
   },
   "outputs": [],
   "source": []
  }
 ],
 "metadata": {
  "anaconda-cloud": {},
  "kernelspec": {
   "display_name": "Python [default]",
   "language": "python",
   "name": "python2"
  },
  "language_info": {
   "codemirror_mode": {
    "name": "ipython",
    "version": 2
   },
   "file_extension": ".py",
   "mimetype": "text/x-python",
   "name": "python",
   "nbconvert_exporter": "python",
   "pygments_lexer": "ipython2",
   "version": "2.7.12"
  }
 },
 "nbformat": 4,
 "nbformat_minor": 1
}
